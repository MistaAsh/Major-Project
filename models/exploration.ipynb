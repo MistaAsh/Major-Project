{
 "cells": [
  {
   "cell_type": "code",
   "execution_count": 6,
   "metadata": {},
   "outputs": [],
   "source": [
    "# Convert nifti to png images\n",
    "\n",
    "import numpy as np\n",
    "import nibabel as nib\n",
    "import matplotlib.pyplot as plt\n",
    "# from PIL import Image\n",
    "\n",
    "nifti_path = \"/home/major/Major-Project-Experiments/nnUNet_raw/Dataset007_Pancreas/imagesTs/pancreas_002_0000.nii.gz\"\n",
    "img_path = \"/home/major/Major-Project-Experiments/data/examples/pancreas_002/\"\n",
    "\n",
    "nii_img = nib.load(nifti_path)\n",
    "img_array = nii_img.get_fdata().astype(np.float16)\n",
    "ct_image = np.transpose(img_array, (2, 0, 1))\n",
    "\n",
    "for i,arr in enumerate(ct_image):\n",
    "    plt.imsave(f'{img_path}pancreas_002_{i}.png', arr)"
   ]
  },
  {
   "cell_type": "code",
   "execution_count": null,
   "metadata": {},
   "outputs": [],
   "source": []
  }
 ],
 "metadata": {
  "kernelspec": {
   "display_name": "venv",
   "language": "python",
   "name": "python3"
  },
  "language_info": {
   "codemirror_mode": {
    "name": "ipython",
    "version": 3
   },
   "file_extension": ".py",
   "mimetype": "text/x-python",
   "name": "python",
   "nbconvert_exporter": "python",
   "pygments_lexer": "ipython3",
   "version": "3.10.12"
  }
 },
 "nbformat": 4,
 "nbformat_minor": 2
}
