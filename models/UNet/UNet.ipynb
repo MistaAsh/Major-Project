{
 "cells": [
  {
   "cell_type": "code",
   "execution_count": 1,
   "metadata": {},
   "outputs": [
    {
     "name": "stdout",
     "output_type": "stream",
     "text": [
      "USING GPU...\n"
     ]
    }
   ],
   "source": [
    "import os\n",
    "import numpy as np\n",
    "import matplotlib.pyplot as plt\n",
    "\n",
    "import torch\n",
    "import torch.nn as nn\n",
    "import torch.optim as optim\n",
    "\n",
    "from torch.utils.data import DataLoader, TensorDataset\n",
    "import segmentation_models_pytorch as smp\n",
    "\n",
    "if torch.cuda.is_available():\n",
    "    print(\"USING GPU...\")\n",
    "    dev = \"cuda:0\"\n",
    "else:\n",
    "    dev = \"cpu\"\n",
    "device = torch.device(dev)"
   ]
  },
  {
   "cell_type": "code",
   "execution_count": 2,
   "metadata": {},
   "outputs": [],
   "source": [
    "# Function to calculate Dice Similarity Coefficient\n",
    "def dice_coefficient(outputs, targets):\n",
    "    intersection = 2.0 * (outputs * targets).sum()\n",
    "    union = (\n",
    "        outputs.sum() + targets.sum() + 1e-7\n",
    "    )  # Adding a small constant to avoid division by zero\n",
    "    return intersection / union\n",
    "\n",
    "# Function to train the model\n",
    "def train(model, criterion, optimizer, train_loader, val_loader, num_epochs=10):\n",
    "    device = torch.device(\"cuda\" if torch.cuda.is_available() else \"cpu\")\n",
    "    model.to(device)\n",
    "\n",
    "    for epoch in range(num_epochs):\n",
    "        model.train()\n",
    "        total_loss = 0.0\n",
    "\n",
    "        for inputs, targets in train_loader:\n",
    "            inputs, targets = inputs.to(device), targets.to(device)\n",
    "\n",
    "            optimizer.zero_grad()\n",
    "            outputs = model(inputs)\n",
    "            loss = criterion(outputs, targets)\n",
    "            # print(\"\\nLoss:\\n\")\n",
    "            # print(loss)\n",
    "            loss.backward()\n",
    "            optimizer.step()\n",
    "\n",
    "            total_loss += loss.item()\n",
    "            # print(total_loss)\n",
    "\n",
    "        average_loss = total_loss / len(train_loader)\n",
    "        print(f\"Epoch {epoch + 1}/{num_epochs}, Loss: {average_loss}\")\n",
    "\n",
    "        # Validation (if val_loader is provided)\n",
    "        if val_loader is not None:\n",
    "            model.eval()\n",
    "            total_dice = 0.0\n",
    "            total_val_loss = 0.0\n",
    "\n",
    "            with torch.no_grad():\n",
    "                for val_inputs, val_targets in val_loader:\n",
    "                    val_inputs, val_targets = val_inputs.to(device), val_targets.to(device)\n",
    "\n",
    "                    val_outputs = model(val_inputs)\n",
    "                    val_loss = criterion(val_outputs, val_targets)\n",
    "\n",
    "                    total_val_loss += val_loss.item()\n",
    "                    # print(total_val_loss)\n",
    "                    total_dice += dice_coefficient(\n",
    "                        (val_outputs.argmax(dim=1) == 1).float(), (val_targets == 1).float()\n",
    "                    )\n",
    "                    # print(total_dice)\n",
    "\n",
    "            average_val_loss = total_val_loss / len(val_loader)\n",
    "            average_dice = total_dice / len(val_loader)\n",
    "            print(f\"Validation Loss: {average_val_loss}, Dice Coefficient: {average_dice}\")"
   ]
  },
  {
   "cell_type": "code",
   "execution_count": 3,
   "metadata": {},
   "outputs": [],
   "source": [
    "# Load your data\n",
    "train_folder = \"/home/major/Major-Project-Experiments/data/organizedPancreasData/train_np\"\n",
    "test_folder = \"/home/major/Major-Project-Experiments/data/organizedPancreasData/test_np\"\n",
    "label_folder = \"/home/major/Major-Project-Experiments/data/organizedPancreasData/label_np\"\n",
    "\n",
    "train_txt = \"/home/major/Major-Project-Experiments/data/organizedPancreasData/train.txt\"\n",
    "test_txt = \"/home/major/Major-Project-Experiments/data/organizedPancreasData/test.txt\"\n",
    "label_txt = \"/home/major/Major-Project-Experiments/data/organizedPancreasData/mask_train.txt\"\n",
    "val_label_txt = \"/home/major/Major-Project-Experiments/data/organizedPancreasData/mask_val.txt\"\n",
    "val_txt = \"/home/major/Major-Project-Experiments/data/organizedPancreasData/validation.txt\"\n",
    "\n",
    "train_images = []\n",
    "test_images = []\n",
    "val_images = []\n",
    "mask_train = []\n",
    "mask_val = []\n",
    "\n",
    "N = 10\n",
    "\n",
    "i = N\n",
    "with open(train_txt) as file:\n",
    "    for row in file:\n",
    "        if i == 0:\n",
    "            break\n",
    "        i -= 1\n",
    "        filename = row.strip('\\n')\n",
    "        train_images.append(np.load(train_folder + '/' + filename))\n",
    "\n",
    "i = N\n",
    "with open(label_txt) as file:\n",
    "    for row in file:\n",
    "        if i == 0:\n",
    "            break\n",
    "        i -= 1\n",
    "        filename = row.strip('\\n')\n",
    "        mask_train.append(np.load(label_folder + '/' + filename))\n",
    "\n",
    "i = N\n",
    "with open(val_txt) as file:\n",
    "    for row in file:\n",
    "        if i == 0:\n",
    "            break\n",
    "        i -= 1\n",
    "        filename = row.strip('\\n')\n",
    "        val_images.append(np.load(train_folder + '/' + filename))\n",
    "\n",
    "i = N\n",
    "with open(val_label_txt) as file:\n",
    "    for row in file:\n",
    "        if i == 0:\n",
    "            break\n",
    "        i -= 1\n",
    "        filename = row.strip('\\n')\n",
    "        mask_val.append(np.load(label_folder + '/' + filename))\n",
    "\n",
    "i = N\n",
    "with open(test_txt) as file:\n",
    "    for row in file:\n",
    "        if i == 0:\n",
    "            break\n",
    "        i -= 1\n",
    "        filename = row.strip('\\n')\n",
    "        test_images.append(np.load(test_folder + '/' + filename))"
   ]
  },
  {
   "cell_type": "code",
   "execution_count": 4,
   "metadata": {},
   "outputs": [
    {
     "name": "stdout",
     "output_type": "stream",
     "text": [
      "(93, 512, 512) (93, 512, 512)\n",
      "(97, 512, 512) (97, 512, 512)\n",
      "(85, 512, 512) (85, 512, 512)\n",
      "(81, 512, 512) (81, 512, 512)\n",
      "(73, 512, 512) (73, 512, 512)\n",
      "(86, 512, 512) (86, 512, 512)\n",
      "(113, 512, 512) (113, 512, 512)\n",
      "(72, 512, 512) (72, 512, 512)\n",
      "(97, 512, 512) (97, 512, 512)\n",
      "(97, 512, 512) (97, 512, 512)\n"
     ]
    }
   ],
   "source": [
    "for i in range(10):\n",
    "    print(train_images[i].shape, mask_train[i].shape)"
   ]
  },
  {
   "cell_type": "code",
   "execution_count": 5,
   "metadata": {},
   "outputs": [
    {
     "name": "stdout",
     "output_type": "stream",
     "text": [
      "(894, 512, 512)\n"
     ]
    }
   ],
   "source": [
    "train_2D_images = np.vstack(train_images)\n",
    "print(train_2D_images.shape)"
   ]
  },
  {
   "cell_type": "code",
   "execution_count": 6,
   "metadata": {},
   "outputs": [
    {
     "name": "stdout",
     "output_type": "stream",
     "text": [
      "(894, 512, 512)\n"
     ]
    }
   ],
   "source": [
    "mask_2D_train = np.vstack(mask_train)\n",
    "print(mask_2D_train.shape)"
   ]
  },
  {
   "cell_type": "code",
   "execution_count": 7,
   "metadata": {},
   "outputs": [
    {
     "name": "stdout",
     "output_type": "stream",
     "text": [
      "(896, 512, 512)\n"
     ]
    }
   ],
   "source": [
    "val_2D_images = np.vstack(val_images)\n",
    "print(val_2D_images.shape)"
   ]
  },
  {
   "cell_type": "code",
   "execution_count": 8,
   "metadata": {},
   "outputs": [
    {
     "name": "stdout",
     "output_type": "stream",
     "text": [
      "(896, 512, 512)\n"
     ]
    }
   ],
   "source": [
    "mask_2D_val = np.vstack(mask_val)\n",
    "print(mask_2D_val.shape)"
   ]
  },
  {
   "cell_type": "code",
   "execution_count": 9,
   "metadata": {},
   "outputs": [
    {
     "name": "stdout",
     "output_type": "stream",
     "text": [
      "(1059, 512, 512)\n"
     ]
    }
   ],
   "source": [
    "test_2D_images = np.vstack(test_images)\n",
    "print(test_2D_images.shape)"
   ]
  },
  {
   "cell_type": "code",
   "execution_count": 10,
   "metadata": {},
   "outputs": [],
   "source": [
    "# def remove_infinity(arr, N):\n",
    "#     arr[arr == np.inf] = N\n",
    "#     arr[arr == -np.inf] = -N\n",
    "#     return arr\n",
    "\n",
    "# train_2D_images = remove_infinity(train_2D_images, 7)\n",
    "# mask_2D_train = remove_infinity(mask_2D_train, 7)\n",
    "# val_2D_images = remove_infinity(val_2D_images, 7)\n",
    "# mask_2D_val = remove_infinity(mask_2D_val, 7)\n",
    "# test_2D_images = remove_infinity(test_2D_images, 7)"
   ]
  },
  {
   "cell_type": "code",
   "execution_count": 11,
   "metadata": {},
   "outputs": [],
   "source": [
    "# Convert data to PyTorch tensors\n",
    "train_images = torch.from_numpy(train_2D_images).float().unsqueeze(1)\n",
    "val_images = torch.from_numpy(val_2D_images).float().unsqueeze(1)\n",
    "test_images = torch.from_numpy(test_2D_images).float().unsqueeze(1)\n",
    "mask_train = torch.from_numpy(mask_2D_train).long()\n",
    "mask_val = torch.from_numpy(mask_2D_val).long()"
   ]
  },
  {
   "cell_type": "code",
   "execution_count": 12,
   "metadata": {},
   "outputs": [
    {
     "data": {
      "image/png": "[encoded data removed]",
      "text/plain": [
       "<Figure size 640x480 with 1 Axes>"
      ]
     },
     "metadata": {},
     "output_type": "display_data"
    }
   ],
   "source": [
    "sample_image = train_images[2]\n",
    "# Convert the PyTorch tensor to a NumPy array for visualization\n",
    "sample_image_np = sample_image.squeeze(0).numpy()\n",
    "\n",
    "# Display the image using matplotlib\n",
    "plt.imshow(sample_image_np, cmap='gray', vmin = 0, vmax=1)  # Assuming the image is grayscale\n",
    "plt.title('Sample Image')\n",
    "plt.show()"
   ]
  },
  {
   "cell_type": "code",
   "execution_count": 13,
   "metadata": {},
   "outputs": [
    {
     "name": "stdout",
     "output_type": "stream",
     "text": [
      "Train: torch.Size([894, 1, 512, 512]) || Mask: torch.Size([894, 512, 512])\n",
      "Val: torch.Size([896, 1, 512, 512]) || Mask: torch.Size([896, 512, 512])\n"
     ]
    }
   ],
   "source": [
    "# Convert data to PyTorch tensors\n",
    "print(f'Train: {train_images.shape} || Mask: {mask_train.shape}')\n",
    "train_dataset = TensorDataset(torch.Tensor(train_images), torch.Tensor(mask_train))\n",
    "\n",
    "print(f'Val: {val_images.shape} || Mask: {mask_val.shape}')\n",
    "val_dataset = TensorDataset(torch.Tensor(val_images), torch.Tensor(mask_val))"
   ]
  },
  {
   "cell_type": "code",
   "execution_count": 14,
   "metadata": {},
   "outputs": [],
   "source": [
    "# DataLoader\n",
    "batch_size = 8\n",
    "train_loader = DataLoader(train_dataset, batch_size=batch_size, shuffle=True)\n",
    "val_loader = DataLoader(val_dataset, batch_size=batch_size, shuffle=False)"
   ]
  },
  {
   "cell_type": "code",
   "execution_count": 15,
   "metadata": {},
   "outputs": [
    {
     "name": "stdout",
     "output_type": "stream",
     "text": [
      "Epoch 1/100, Loss: 0.09376975860712784\n",
      "Validation Loss: 0.038928136454030336, Dice Coefficient: 0.0011130472412332892\n",
      "Epoch 2/100, Loss: 0.011313686866612573\n",
      "Validation Loss: 0.007646220522084539, Dice Coefficient: 0.04601003974676132\n",
      "Epoch 3/100, Loss: 0.007268771312997809\n",
      "Validation Loss: 0.007347177235975063, Dice Coefficient: 0.047464556992053986\n",
      "Epoch 4/100, Loss: 0.005300345992769248\n",
      "Validation Loss: 0.007088994990356566, Dice Coefficient: 0.007146117277443409\n",
      "Epoch 5/100, Loss: 0.004710269263471544\n",
      "Validation Loss: 0.006176440799858288, Dice Coefficient: 0.11808815598487854\n",
      "Epoch 6/100, Loss: 0.003930773060086982\n",
      "Validation Loss: 0.00530368478861679, Dice Coefficient: 0.1516495645046234\n",
      "Epoch 7/100, Loss: 0.002900904633081934\n",
      "Validation Loss: 0.004324122693755531, Dice Coefficient: 0.17301757633686066\n",
      "Epoch 8/100, Loss: 0.003042404869120219\n",
      "Validation Loss: 0.005793563809025467, Dice Coefficient: 0.08872221410274506\n",
      "Epoch 9/100, Loss: 0.0024385979873581425\n",
      "Validation Loss: 0.004062005754219301, Dice Coefficient: 0.17563900351524353\n",
      "Epoch 10/100, Loss: 0.0020384895747806047\n",
      "Validation Loss: 0.005121520226436717, Dice Coefficient: 0.13683663308620453\n"
     ]
    }
   ],
   "source": [
    "# Create U-Net model using segmentation-models-pytorch\n",
    "model = smp.Unet(\n",
    "    \"resnet34\", in_channels=1, classes=3\n",
    ")  # You can choose a different backbone\n",
    "criterion = nn.CrossEntropyLoss()\n",
    "optimizer = optim.Adam(model.parameters(), lr=0.001)\n",
    "\n",
    "# Train the model without validation data\n",
    "train(model, criterion, optimizer, train_loader, val_loader, num_epochs=100)"
   ]
  },
  {
   "cell_type": "code",
   "execution_count": null,
   "metadata": {},
   "outputs": [],
   "source": []
  }
 ],
 "metadata": {
  "kernelspec": {
   "display_name": "venv",
   "language": "python",
   "name": "python3"
  },
  "language_info": {
   "codemirror_mode": {
    "name": "ipython",
    "version": 3
   },
   "file_extension": ".py",
   "mimetype": "text/x-python",
   "name": "python",
   "nbconvert_exporter": "python",
   "pygments_lexer": "ipython3",
   "version": "3.10.12"
  }
 },
 "nbformat": 4,
 "nbformat_minor": 2
}
