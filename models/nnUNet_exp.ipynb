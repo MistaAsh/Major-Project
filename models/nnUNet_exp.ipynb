{
 "cells": [
  {
   "cell_type": "code",
   "execution_count": 1,
   "metadata": {},
   "outputs": [
    {
     "data": {
      "text/plain": [
       "'/home/major/Major-Project-Experiments/nnUNet_results/Dataset007_Pancreas/nnUNetTrainer__nnUNetPlans__2d/fold_0/network_architecture.pdf'"
      ]
     },
     "execution_count": 1,
     "metadata": {},
     "output_type": "execute_result"
    },
    {
     "name": "stderr",
     "output_type": "stream",
     "text": [
      "Error: no \"view\" rule for type \"application/pdf\" passed its test case\n",
      "       (for more information, add \"--debug=1\" on the command line)\n"
     ]
    }
   ],
   "source": [
    "from graphviz import Source\n",
    "\n",
    "s = Source.from_file(\"/home/major/Major-Project-Experiments/nnUNet_results/Dataset007_Pancreas/nnUNetTrainer__nnUNetPlans__2d/fold_0/network_architecture\")\n",
    "s.view()"
   ]
  }
 ],
 "metadata": {
  "kernelspec": {
   "display_name": "venv",
   "language": "python",
   "name": "python3"
  },
  "language_info": {
   "codemirror_mode": {
    "name": "ipython",
    "version": 3
   },
   "file_extension": ".py",
   "mimetype": "text/x-python",
   "name": "python",
   "nbconvert_exporter": "python",
   "pygments_lexer": "ipython3",
   "version": "3.10.12"
  }
 },
 "nbformat": 4,
 "nbformat_minor": 2
}
