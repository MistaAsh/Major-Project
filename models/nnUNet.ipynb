{
 "cells": [
  {
   "cell_type": "code",
   "execution_count": 2,
   "metadata": {},
   "outputs": [],
   "source": [
    "import os\n",
    "\n",
    "os.environ['nnUNet_raw_data_base'] = \"/home/major/Major-Project-Experiments/nnUNet_raw\"\n",
    "os.environ['nnUNet_preprocessed'] = \"/home/major/Major-Project-Experiments/nnuUNet_preprocessed\"\n",
    "os.environ['RESULTS_FOLDER'] = \"/home/major/Major-Project-Experiments/nnUNet_results\"\n",
    "os.environ['nnUNet_n_proc_DA'] = '12'"
   ]
  }
 ],
 "metadata": {
  "kernelspec": {
   "display_name": "venv",
   "language": "python",
   "name": "python3"
  },
  "language_info": {
   "codemirror_mode": {
    "name": "ipython",
    "version": 3
   },
   "file_extension": ".py",
   "mimetype": "text/x-python",
   "name": "python",
   "nbconvert_exporter": "python",
   "pygments_lexer": "ipython3",
   "version": "3.10.12"
  }
 },
 "nbformat": 4,
 "nbformat_minor": 2
}
